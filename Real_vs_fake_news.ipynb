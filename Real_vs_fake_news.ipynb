{
  "nbformat": 4,
  "nbformat_minor": 0,
  "metadata": {
    "colab": {
      "provenance": [],
      "toc_visible": true
    },
    "kernelspec": {
      "display_name": "Python 3",
      "language": "python",
      "name": "python3"
    },
    "language_info": {
      "codemirror_mode": {
        "name": "ipython",
        "version": 3
      },
      "file_extension": ".py",
      "mimetype": "text/x-python",
      "name": "python",
      "nbconvert_exporter": "python",
      "pygments_lexer": "ipython3",
      "version": "3.7.1"
    }
  },
  "cells": [
    {
      "cell_type": "markdown",
      "source": [
        "Importing libraries"
      ],
      "metadata": {
        "id": "3ohVY_yLEKUn"
      }
    },
    {
      "cell_type": "code",
      "metadata": {
        "id": "R35q1D7it1uM"
      },
      "source": [
        "import pandas as pd\n",
        "import numpy as np\n",
        "from scipy.special import softmax\n",
        "import matplotlib.pyplot as plt\n",
        "import sklearn\n",
        "import random\n",
        "import seaborn as sns\n",
        "import tensorflow as tf\n",
        "from tensorflow.keras.preprocessing.text import Tokenizer"
      ],
      "execution_count": null,
      "outputs": []
    },
    {
      "cell_type": "markdown",
      "source": [
        "Reading in data"
      ],
      "metadata": {
        "id": "9MN_xmluEM9O"
      }
    },
    {
      "cell_type": "code",
      "metadata": {
        "id": "PanC0UEnu_ZE"
      },
      "source": [
        "data = pd.read_csv(\"data\")"
      ],
      "execution_count": null,
      "outputs": []
    },
    {
      "cell_type": "code",
      "metadata": {
        "id": "VgnTWi0PvG9v"
      },
      "source": [
        "data.head(3)"
      ],
      "execution_count": null,
      "outputs": []
    },
    {
      "cell_type": "code",
      "metadata": {
        "id": "TFPHNczc0Vqm"
      },
      "source": [
        "data.info()"
      ],
      "execution_count": null,
      "outputs": []
    },
    {
      "cell_type": "markdown",
      "source": [
        "Only keeping news"
      ],
      "metadata": {
        "id": "tfaPfUcIEUm7"
      }
    },
    {
      "cell_type": "code",
      "metadata": {
        "id": "l8Tnl6FR164b"
      },
      "source": [
        "news= data[\"News\"].values"
      ],
      "execution_count": null,
      "outputs": []
    },
    {
      "cell_type": "code",
      "metadata": {
        "id": "PtfQpfB0ieh3",
        "colab": {
          "base_uri": "https://localhost:8080/"
        },
        "outputId": "5022ad32-179a-4a75-b5d9-dbe86c3f52aa"
      },
      "source": [
        "news= data[\"News\"].values\n",
        "isinstance(news, list)"
      ],
      "execution_count": null,
      "outputs": [
        {
          "output_type": "execute_result",
          "data": {
            "text/plain": [
              "False"
            ]
          },
          "metadata": {},
          "execution_count": 62
        }
      ]
    },
    {
      "cell_type": "code",
      "metadata": {
        "id": "Vro69tSHi3Go",
        "colab": {
          "base_uri": "https://localhost:8080/"
        },
        "outputId": "1d1a2a54-ec1d-4426-981e-482e39ab34d8"
      },
      "source": [
        "news_list = []\n",
        "for item in news:\n",
        "  news_list.append(item)\n",
        "news = news_list\n",
        "isinstance(news, list)"
      ],
      "execution_count": null,
      "outputs": [
        {
          "output_type": "execute_result",
          "data": {
            "text/plain": [
              "True"
            ]
          },
          "metadata": {},
          "execution_count": 63
        }
      ]
    },
    {
      "cell_type": "markdown",
      "source": [
        "Preprocessing: only keep most used words"
      ],
      "metadata": {
        "id": "s4x1LNDCkwf_"
      }
    },
    {
      "cell_type": "code",
      "metadata": {
        "id": "1CS_-B-o2apY"
      },
      "source": [
        "MAX_VOCAB = 9999"
      ],
      "execution_count": null,
      "outputs": []
    },
    {
      "cell_type": "code",
      "metadata": {
        "id": "n0Wq6l-t8PTO"
      },
      "source": [
        "# Based on word frequency\n",
        "tokenizer = Tokenizer(num_words = MAX_VOCAB,\n",
        "                      filters = '!\"#$%&()*+,-./:;<=>?@[\\\\]^_`{|}~\\t\\n',\n",
        "                      oov_token = 'UNK',\n",
        "                      lower=\"True\"\n",
        "                      )"
      ],
      "execution_count": null,
      "outputs": []
    },
    {
      "cell_type": "code",
      "metadata": {
        "id": "B-ttvzwV82ma"
      },
      "source": [
        "tokenizer.fit_on_texts(news)"
      ],
      "execution_count": null,
      "outputs": []
    },
    {
      "cell_type": "code",
      "metadata": {
        "id": "aQblDnJq9EYd"
      },
      "source": [
        "seq = tokenizer.texts_to_sequences(news)"
      ],
      "execution_count": null,
      "outputs": []
    },
    {
      "cell_type": "code",
      "source": [
        "len(seq) == len(news)"
      ],
      "metadata": {
        "colab": {
          "base_uri": "https://localhost:8080/"
        },
        "id": "9uQfREH8lRu3",
        "outputId": "9143abbb-3343-4166-f1f0-148663b3905a"
      },
      "execution_count": null,
      "outputs": [
        {
          "output_type": "execute_result",
          "data": {
            "text/plain": [
              "True"
            ]
          },
          "metadata": {},
          "execution_count": 68
        }
      ]
    },
    {
      "cell_type": "code",
      "metadata": {
        "id": "qLQqf2Zj9NbG"
      },
      "source": [
        "seq[0]"
      ],
      "execution_count": null,
      "outputs": []
    },
    {
      "cell_type": "code",
      "metadata": {
        "id": "z4Goie4_AXlt",
        "colab": {
          "base_uri": "https://localhost:8080/"
        },
        "outputId": "e2fa3b84-42c7-44d4-aaa7-1b6d200d9f34"
      },
      "source": [
        "tokenizer.word_index[\"hi\"]"
      ],
      "execution_count": null,
      "outputs": [
        {
          "output_type": "execute_result",
          "data": {
            "text/plain": [
              "8168"
            ]
          },
          "metadata": {},
          "execution_count": 20
        }
      ]
    },
    {
      "cell_type": "code",
      "metadata": {
        "id": "r7wG-bukAdZz"
      },
      "source": [
        "word_index = {}\n",
        "for k,v in tokenizer.word_index.items():\n",
        "    if v< MAX_VOCAB:\n",
        "        word_index[k] = v\n",
        "word_index[\"START\"] = 0\n",
        "word_index[\"END\"] = MAX_VOCAB"
      ],
      "execution_count": null,
      "outputs": []
    },
    {
      "cell_type": "code",
      "metadata": {
        "id": "mhqxn1l0BAow",
        "colab": {
          "base_uri": "https://localhost:8080/"
        },
        "outputId": "e26a7bfa-9f9f-41f1-b409-a6863ce6f15b"
      },
      "source": [
        "word_index[\"START\"]"
      ],
      "execution_count": null,
      "outputs": [
        {
          "output_type": "execute_result",
          "data": {
            "text/plain": [
              "0"
            ]
          },
          "metadata": {},
          "execution_count": 22
        }
      ]
    },
    {
      "cell_type": "code",
      "metadata": {
        "id": "IWnMHoWdBQ9N",
        "colab": {
          "base_uri": "https://localhost:8080/"
        },
        "outputId": "8a094f27-87ad-40bf-b626-9d08933a245b"
      },
      "source": [
        "word_index[\"economy\"]"
      ],
      "execution_count": null,
      "outputs": [
        {
          "output_type": "execute_result",
          "data": {
            "text/plain": [
              "419"
            ]
          },
          "metadata": {},
          "execution_count": 23
        }
      ]
    },
    {
      "cell_type": "code",
      "metadata": {
        "id": "tLIqUydUBaTQ"
      },
      "source": [
        "index_word = { v : k for k,v in word_index.items()}"
      ],
      "execution_count": null,
      "outputs": []
    },
    {
      "cell_type": "code",
      "metadata": {
        "id": "E7ELbxbrB3Zj",
        "colab": {
          "base_uri": "https://localhost:8080/",
          "height": 35
        },
        "outputId": "0dc5acf6-4ecc-4938-877a-292306e756f5"
      },
      "source": [
        "index_word[0]"
      ],
      "execution_count": null,
      "outputs": [
        {
          "output_type": "execute_result",
          "data": {
            "text/plain": [
              "'START'"
            ],
            "application/vnd.google.colaboratory.intrinsic+json": {
              "type": "string"
            }
          },
          "metadata": {},
          "execution_count": 72
        }
      ]
    },
    {
      "cell_type": "markdown",
      "source": [
        "Shuffle to make it random"
      ],
      "metadata": {
        "id": "pZ36teB6EbZ9"
      }
    },
    {
      "cell_type": "code",
      "metadata": {
        "id": "9Gx0HobcD0AL"
      },
      "source": [
        "random.shuffle(seq)"
      ],
      "execution_count": null,
      "outputs": []
    },
    {
      "cell_type": "code",
      "metadata": {
        "id": "MkHdSYwfD8R0"
      },
      "source": [
        "sequences = []\n",
        "for sequence in seq:\n",
        "    sequences.append([0] + sequence + [MAX_VOCAB])"
      ],
      "execution_count": null,
      "outputs": []
    },
    {
      "cell_type": "code",
      "metadata": {
        "id": "KGlbS8zVD8KE",
        "colab": {
          "base_uri": "https://localhost:8080/"
        },
        "outputId": "136c3bef-e90e-46d3-8321-fcee86d0cda2"
      },
      "source": [
        "sequences[0]"
      ],
      "execution_count": null,
      "outputs": [
        {
          "output_type": "execute_result",
          "data": {
            "text/plain": [
              "[0, 1, 540, 2127, 289, 1480, 36, 2536, 247, 1, 8810, 420, 1, 9999]"
            ]
          },
          "metadata": {},
          "execution_count": 31
        }
      ]
    },
    {
      "cell_type": "markdown",
      "source": [
        "Let's try to create transition matrix"
      ],
      "metadata": {
        "id": "WUsyt3nRnJ5n"
      }
    },
    {
      "cell_type": "code",
      "metadata": {
        "id": "7PhHSMFss97v"
      },
      "source": [
        "sequences_flat_list = []\n",
        "for sublist in sequences:\n",
        "    for item in sublist:\n",
        "        sequences_flat_list.append(item)"
      ],
      "execution_count": null,
      "outputs": []
    },
    {
      "cell_type": "code",
      "metadata": {
        "id": "pU2CHWC_QqYG"
      },
      "source": [
        "sequences_flat_list[0:100]"
      ],
      "execution_count": null,
      "outputs": []
    },
    {
      "cell_type": "code",
      "metadata": {
        "id": "1el1wPCGaRla"
      },
      "source": [
        "def transition_matrix(V, sequence):\n",
        "    Q = [[0]*(V+1) for _ in range(V+1)]\n",
        "    for (i,j) in zip(sequence,sequence[1:]):\n",
        "        Q[i][j] += 1\n",
        "\n",
        "    for row in Q:\n",
        "        n = sum(row)\n",
        "        if n > 0:\n",
        "            row[:] = [f/n for f in row]\n",
        "\n",
        "    return Q"
      ],
      "execution_count": null,
      "outputs": []
    },
    {
      "cell_type": "code",
      "metadata": {
        "id": "0A80wA2PaRjQ"
      },
      "source": [
        "Q = transition_matrix(MAX_VOCAB, sequences_flat_list)"
      ],
      "execution_count": null,
      "outputs": []
    },
    {
      "cell_type": "code",
      "metadata": {
        "id": "Ay-CyCiiaRgI"
      },
      "source": [
        "Q = np.array(Q)"
      ],
      "execution_count": null,
      "outputs": []
    },
    {
      "cell_type": "markdown",
      "source": [
        "Checks on transition matrix"
      ],
      "metadata": {
        "id": "qw7gH2SMEfii"
      }
    },
    {
      "cell_type": "code",
      "metadata": {
        "id": "Ix_F1fQm5gPw",
        "colab": {
          "base_uri": "https://localhost:8080/"
        },
        "outputId": "ebc432b6-8f7d-4dce-85b1-17c3e073c465"
      },
      "source": [
        "Q.shape"
      ],
      "execution_count": null,
      "outputs": [
        {
          "output_type": "execute_result",
          "data": {
            "text/plain": [
              "(10000, 10000)"
            ]
          },
          "metadata": {},
          "execution_count": 38
        }
      ]
    },
    {
      "cell_type": "code",
      "metadata": {
        "id": "ZHd2x184aeq4",
        "colab": {
          "base_uri": "https://localhost:8080/"
        },
        "outputId": "30d79d07-14a9-438f-f06a-72f3a8508906"
      },
      "source": [
        "np.sum(Q[1])"
      ],
      "execution_count": null,
      "outputs": [
        {
          "output_type": "execute_result",
          "data": {
            "text/plain": [
              "1.0"
            ]
          },
          "metadata": {},
          "execution_count": 77
        }
      ]
    },
    {
      "cell_type": "code",
      "source": [
        "np.sum(Q[0:10000,])"
      ],
      "metadata": {
        "colab": {
          "base_uri": "https://localhost:8080/"
        },
        "id": "tY2oTVW8nkcs",
        "outputId": "12f3f879-738d-48d9-d178-8c512cff65e5"
      },
      "execution_count": null,
      "outputs": [
        {
          "output_type": "execute_result",
          "data": {
            "text/plain": [
              "10000.000000000013"
            ]
          },
          "metadata": {},
          "execution_count": 83
        }
      ]
    },
    {
      "cell_type": "code",
      "metadata": {
        "id": "-fyPQnafaxCV",
        "colab": {
          "base_uri": "https://localhost:8080/"
        },
        "outputId": "132de331-927f-4fb7-a29a-caaeca7f7115"
      },
      "source": [
        "probabilities = np.sum(Q, axis = 1)\n",
        "print(len(probabilities)-sum((probabilities >0.99)))"
      ],
      "execution_count": null,
      "outputs": [
        {
          "output_type": "stream",
          "name": "stdout",
          "text": [
            "0\n"
          ]
        }
      ]
    },
    {
      "cell_type": "code",
      "metadata": {
        "id": "yPjupb9kWIt1"
      },
      "source": [
        "random.seed(2021)\n",
        "true_sentences = random.sample(sequences,5)"
      ],
      "execution_count": null,
      "outputs": []
    },
    {
      "cell_type": "code",
      "metadata": {
        "id": "ABTTr6QMWIrg"
      },
      "source": [
        "true_sentences"
      ],
      "execution_count": null,
      "outputs": []
    },
    {
      "cell_type": "code",
      "metadata": {
        "id": "hB6HLxit5gQK"
      },
      "source": [
        "def likelihood_test(sentences, T_matrix):\n",
        "    n = len(sentences)\n",
        "    likelihood = [0]*n\n",
        "    for sentence in range(n):\n",
        "        for (i,j) in zip(sentences[sentence],sentences[sentence][1:]):\n",
        "            if T_matrix[i,j] != 0:\n",
        "                likelihood[sentence] += np.log(T_matrix[i,j])\n",
        "            else:\n",
        "                likelihood[sentence] += np.log(10**(-18))\n",
        "        likelihood[sentence] = likelihood[sentence]/len(sentences[sentence])\n",
        "\n",
        "    return likelihood"
      ],
      "execution_count": null,
      "outputs": []
    },
    {
      "cell_type": "code",
      "metadata": {
        "id": "i9sXHaJi5gQM",
        "colab": {
          "base_uri": "https://localhost:8080/"
        },
        "outputId": "c27efa5f-0d94-421d-b1c0-dd83c783b0e5"
      },
      "source": [
        "true_likelihood = likelihood_test(true_sentences,Q)\n",
        "print(true_likelihood)"
      ],
      "execution_count": null,
      "outputs": [
        {
          "output_type": "stream",
          "name": "stdout",
          "text": [
            "[-3.863439835548537, -3.7136936630690256, -4.305679400513897, -3.8139928552872067, -4.833726249194242]\n"
          ]
        }
      ]
    },
    {
      "cell_type": "markdown",
      "source": [
        "Average log-likelihood for true sentences"
      ],
      "metadata": {
        "id": "skNgPun0Ekj5"
      }
    },
    {
      "cell_type": "code",
      "metadata": {
        "id": "xY92HxtoXhIJ",
        "colab": {
          "base_uri": "https://localhost:8080/"
        },
        "outputId": "b4ac2294-22c4-4497-c036-f3fb203f7496"
      },
      "source": [
        "average_loglikelihood = np.mean(true_likelihood)\n",
        "average_loglikelihood"
      ],
      "execution_count": null,
      "outputs": [
        {
          "output_type": "execute_result",
          "data": {
            "text/plain": [
              "-4.106106400722582"
            ]
          },
          "metadata": {},
          "execution_count": 45
        }
      ]
    },
    {
      "cell_type": "code",
      "metadata": {
        "id": "9yxBj0_cbpmA",
        "colab": {
          "base_uri": "https://localhost:8080/"
        },
        "outputId": "7e3c5843-c2fb-448c-bd43-7fc9a3c589bc"
      },
      "source": [
        "def max_min(sequences):\n",
        "    lengths = [len(seq) for seq in sequences]\n",
        "    maxim = max(lengths)\n",
        "    minim = min(lengths)\n",
        "    return minim, maxim\n",
        "\n",
        "max_min(seq)"
      ],
      "execution_count": null,
      "outputs": [
        {
          "output_type": "execute_result",
          "data": {
            "text/plain": [
              "(2, 65)"
            ]
          },
          "metadata": {},
          "execution_count": 46
        }
      ]
    },
    {
      "cell_type": "markdown",
      "source": [
        "Create fake sentences as a check"
      ],
      "metadata": {
        "id": "fENYACMiEmW3"
      }
    },
    {
      "cell_type": "code",
      "metadata": {
        "id": "g1gijHlddhn0"
      },
      "source": [
        "fake_sentences = []\n",
        "\n",
        "for i in range(5):\n",
        "    length_random = random.randint(2,65)\n",
        "    sentence_fake = random.sample(range(1,MAX_VOCAB-1), length_random)\n",
        "    fake_sentences.append(sentence_fake)"
      ],
      "execution_count": null,
      "outputs": []
    },
    {
      "cell_type": "code",
      "metadata": {
        "id": "6CyUYAi9fSda"
      },
      "source": [
        "len(fake_sentences[0])"
      ],
      "execution_count": null,
      "outputs": []
    },
    {
      "cell_type": "code",
      "metadata": {
        "id": "P11qctbQgo9b"
      },
      "source": [
        "fake_sequences_comparison = []\n",
        "for sentence in fake_sentences:\n",
        "    fake_sequences_comparison.append([0] + sentence + [MAX_VOCAB])"
      ],
      "execution_count": null,
      "outputs": []
    },
    {
      "cell_type": "code",
      "metadata": {
        "id": "YtPhT5nrhLZV"
      },
      "source": [
        "fake_sequences_comparison[0]"
      ],
      "execution_count": null,
      "outputs": []
    },
    {
      "cell_type": "code",
      "metadata": {
        "id": "BYmQ97xP5gQv",
        "colab": {
          "base_uri": "https://localhost:8080/"
        },
        "outputId": "ce688667-523d-46da-cbda-51b083f78281"
      },
      "source": [
        "fake_likelihood = likelihood_test(fake_sequences_comparison,Q)\n",
        "print(fake_likelihood)"
      ],
      "execution_count": null,
      "outputs": [
        {
          "output_type": "stream",
          "name": "stdout",
          "text": [
            "[-40.719399539263165, -36.84136148790473, -39.66672401607064, -40.76708033497658, -39.830874670944084]\n"
          ]
        }
      ]
    },
    {
      "cell_type": "markdown",
      "source": [
        "Average log-likelihood for fake sentences"
      ],
      "metadata": {
        "id": "ur2ToVFQEn0v"
      }
    },
    {
      "cell_type": "code",
      "metadata": {
        "id": "F2-up0jWfxSw",
        "colab": {
          "base_uri": "https://localhost:8080/"
        },
        "outputId": "eb615890-035d-49b0-8a51-94c4523b8ae1"
      },
      "source": [
        "average_loglikelihood_fake = np.mean(fake_likelihood)\n",
        "average_loglikelihood_fake"
      ],
      "execution_count": null,
      "outputs": [
        {
          "output_type": "execute_result",
          "data": {
            "text/plain": [
              "-39.56508800983185"
            ]
          },
          "metadata": {},
          "execution_count": 51
        }
      ]
    },
    {
      "cell_type": "code",
      "metadata": {
        "id": "wZtKIrwAsah3"
      },
      "source": [
        "def create_matrix(sequences, V):\n",
        "  N = len(sequences)\n",
        "  tensor_data = np.zeros((N, V))\n",
        "  for i, sequence in enumerate(sequences):\n",
        "    tensor_data[i, sequence] = 1.\n",
        "  return tensor_data"
      ],
      "execution_count": null,
      "outputs": []
    },
    {
      "cell_type": "markdown",
      "source": [
        "For computational efficiency, let's test on one epoch\n",
        "(in reality should be larger)"
      ],
      "metadata": {
        "id": "YqMHOoLIEslc"
      }
    },
    {
      "cell_type": "code",
      "metadata": {
        "id": "j0za-xOGscxe"
      },
      "source": [
        "D = 8\n",
        "learning_rate = 0.0001\n",
        "epochs = 1"
      ],
      "execution_count": null,
      "outputs": []
    },
    {
      "cell_type": "code",
      "metadata": {
        "id": "_84GtiUdsfSH"
      },
      "source": [
        "W_1 = np.array([ [ np.random.rand() for i in range(D) ] for j in range(MAX_VOCAB+2) ])\n",
        "W_2 = np.array([ [ np.random.rand() for i in range(MAX_VOCAB+2) ] for j in range(D) ])"
      ],
      "execution_count": null,
      "outputs": []
    },
    {
      "cell_type": "code",
      "metadata": {
        "id": "IFAP_x1msj2y"
      },
      "source": [
        "def new_sgd(sentence, learning_rate, W_1, W_2):\n",
        "\n",
        "  sentence_matrix = create_matrix(sentence, MAX_VOCAB+2)\n",
        "  feature_matrix = sentence_matrix[:len(sentence_matrix)-1,:]\n",
        "  target_matrix = sentence_matrix[1:, :]\n",
        "\n",
        "\n",
        "  hidden_matrix = np.tanh(W_1[sentence[:-1]])\n",
        "  prediction_matrix = softmax(hidden_matrix.dot(W_2))\n",
        "\n",
        "  # Gradients\n",
        "  N_matrix = np.array([ [ 1 for i in range(D) ] for j in range(len(sentence_matrix)-1) ])\n",
        "  gW_2 = np.transpose(hidden_matrix).dot(prediction_matrix - target_matrix)\n",
        "  gW_1 = np.transpose(feature_matrix).dot(np.multiply((prediction_matrix - target_matrix).dot(np.transpose(W_2)), (N_matrix-np.multiply(hidden_matrix, hidden_matrix))))\n",
        "\n",
        "  W_1 -= learning_rate*gW_1\n",
        "  W_2 -= learning_rate*gW_2\n",
        "\n",
        "  cost = tf.keras.losses.categorical_crossentropy(target_matrix, prediction_matrix).numpy()\n",
        "\n",
        "  return W_1, W_2, cost.sum()\n"
      ],
      "execution_count": null,
      "outputs": []
    },
    {
      "cell_type": "code",
      "metadata": {
        "id": "sYTkvF-Lskc3"
      },
      "source": [
        "full_costs = []\n",
        "\n",
        "random.shuffle(sequences)\n",
        "\n",
        "for i in range(0,len(sequences)):\n",
        "  W_1, W_2, tmp_cost = new_sgd(sequences[i], learning_rate, W_1, W_2)\n",
        "  full_costs.append(tmp_cost)"
      ],
      "execution_count": null,
      "outputs": []
    },
    {
      "cell_type": "markdown",
      "source": [
        "Exponentially weighted moving average, with a smoothing factor of 0.01"
      ],
      "metadata": {
        "id": "e3j22oNME2-A"
      }
    },
    {
      "cell_type": "code",
      "metadata": {
        "id": "RDAfvBYGssrU"
      },
      "source": [
        "ewma = pd.Series(full_costs).ewm(alpha=0.01).mean()"
      ],
      "execution_count": null,
      "outputs": []
    },
    {
      "cell_type": "code",
      "metadata": {
        "id": "XMTFNVkSswRe"
      },
      "source": [
        "plotting_data = pd.DataFrame({'Loss': full_costs, \"EWMA Loss\": ewma, 'Batch': range(1, len(full_costs)+1)})\n",
        "plotting_data.head()"
      ],
      "execution_count": null,
      "outputs": []
    },
    {
      "cell_type": "markdown",
      "source": [
        "Assessing cost curve as a function of the number of batches"
      ],
      "metadata": {
        "id": "8XKqeXi3E5UI"
      }
    },
    {
      "cell_type": "code",
      "metadata": {
        "id": "Jc43nm69s6h3"
      },
      "source": [
        "sns.lineplot(x = 'Batch', y = 'EWMA Loss', data = plotting_data, color = \"coral\").set_title('EWMA Loss')"
      ],
      "execution_count": null,
      "outputs": []
    }
  ]
}